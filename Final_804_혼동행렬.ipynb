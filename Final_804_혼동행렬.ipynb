{
  "cells": [
    {
      "cell_type": "markdown",
      "metadata": {
        "id": "view-in-github",
        "colab_type": "text"
      },
      "source": [
        "<a href=\"https://colab.research.google.com/github/songchanho97/metastaic_cancer_prediction/blob/main/Final_804_%ED%98%BC%EB%8F%99%ED%96%89%EB%A0%AC.ipynb\" target=\"_parent\"><img src=\"https://colab.research.google.com/assets/colab-badge.svg\" alt=\"Open In Colab\"/></a>"
      ]
    },
    {
      "cell_type": "code",
      "execution_count": 2,
      "metadata": {
        "id": "YIEkO_7d6cIl",
        "colab": {
          "base_uri": "https://localhost:8080/"
        },
        "outputId": "93f75b5f-09f7-44d6-b627-f380c31f7c7f"
      },
      "outputs": [
        {
          "output_type": "stream",
          "name": "stdout",
          "text": [
            "Mounted at /content/drive\n"
          ]
        }
      ],
      "source": [
        "from google.colab import drive\n",
        "drive.mount('/content/drive')"
      ]
    },
    {
      "cell_type": "markdown",
      "metadata": {
        "id": "IC5tMF_8vxlK"
      },
      "source": [
        "# Introduction"
      ]
    },
    {
      "cell_type": "code",
      "execution_count": 3,
      "metadata": {
        "id": "grmbby36vxlM",
        "colab": {
          "base_uri": "https://localhost:8080/"
        },
        "outputId": "0c0be6f6-19ee-44f5-8f52-2840576e919f"
      },
      "outputs": [
        {
          "output_type": "stream",
          "name": "stdout",
          "text": [
            "Collecting catboost\n",
            "  Downloading catboost-1.2.8-cp311-cp311-manylinux2014_x86_64.whl.metadata (1.2 kB)\n",
            "Requirement already satisfied: graphviz in /usr/local/lib/python3.11/dist-packages (from catboost) (0.20.3)\n",
            "Requirement already satisfied: matplotlib in /usr/local/lib/python3.11/dist-packages (from catboost) (3.10.0)\n",
            "Requirement already satisfied: numpy<3.0,>=1.16.0 in /usr/local/lib/python3.11/dist-packages (from catboost) (2.0.2)\n",
            "Requirement already satisfied: pandas>=0.24 in /usr/local/lib/python3.11/dist-packages (from catboost) (2.2.2)\n",
            "Requirement already satisfied: scipy in /usr/local/lib/python3.11/dist-packages (from catboost) (1.15.3)\n",
            "Requirement already satisfied: plotly in /usr/local/lib/python3.11/dist-packages (from catboost) (5.24.1)\n",
            "Requirement already satisfied: six in /usr/local/lib/python3.11/dist-packages (from catboost) (1.17.0)\n",
            "Requirement already satisfied: python-dateutil>=2.8.2 in /usr/local/lib/python3.11/dist-packages (from pandas>=0.24->catboost) (2.9.0.post0)\n",
            "Requirement already satisfied: pytz>=2020.1 in /usr/local/lib/python3.11/dist-packages (from pandas>=0.24->catboost) (2025.2)\n",
            "Requirement already satisfied: tzdata>=2022.7 in /usr/local/lib/python3.11/dist-packages (from pandas>=0.24->catboost) (2025.2)\n",
            "Requirement already satisfied: contourpy>=1.0.1 in /usr/local/lib/python3.11/dist-packages (from matplotlib->catboost) (1.3.2)\n",
            "Requirement already satisfied: cycler>=0.10 in /usr/local/lib/python3.11/dist-packages (from matplotlib->catboost) (0.12.1)\n",
            "Requirement already satisfied: fonttools>=4.22.0 in /usr/local/lib/python3.11/dist-packages (from matplotlib->catboost) (4.58.0)\n",
            "Requirement already satisfied: kiwisolver>=1.3.1 in /usr/local/lib/python3.11/dist-packages (from matplotlib->catboost) (1.4.8)\n",
            "Requirement already satisfied: packaging>=20.0 in /usr/local/lib/python3.11/dist-packages (from matplotlib->catboost) (24.2)\n",
            "Requirement already satisfied: pillow>=8 in /usr/local/lib/python3.11/dist-packages (from matplotlib->catboost) (11.2.1)\n",
            "Requirement already satisfied: pyparsing>=2.3.1 in /usr/local/lib/python3.11/dist-packages (from matplotlib->catboost) (3.2.3)\n",
            "Requirement already satisfied: tenacity>=6.2.0 in /usr/local/lib/python3.11/dist-packages (from plotly->catboost) (9.1.2)\n",
            "Downloading catboost-1.2.8-cp311-cp311-manylinux2014_x86_64.whl (99.2 MB)\n",
            "\u001b[2K   \u001b[90m━━━━━━━━━━━━━━━━━━━━━━━━━━━━━━━━━━━━━━━━\u001b[0m \u001b[32m99.2/99.2 MB\u001b[0m \u001b[31m7.7 MB/s\u001b[0m eta \u001b[36m0:00:00\u001b[0m\n",
            "\u001b[?25hInstalling collected packages: catboost\n",
            "Successfully installed catboost-1.2.8\n"
          ]
        }
      ],
      "source": [
        "# Import Libraries\n",
        "\n",
        "import numpy as np # linear algebra\n",
        "import pandas as pd # for data processing, CSV file I/O (e.g. pd.read_csv)\n",
        "import seaborn as sns # for data visualization\n",
        "import matplotlib.pyplot as plt # for data visulaization\n",
        "from sklearn.preprocessing import LabelEncoder\n",
        "from sklearn.linear_model import LogisticRegression\n",
        "!pip install catboost\n",
        "import catboost\n",
        "import xgboost\n",
        "from xgboost import XGBClassifier\n",
        "from catboost import CatBoostClassifier\n",
        "from sklearn.ensemble import RandomForestClassifier, VotingClassifier"
      ]
    },
    {
      "cell_type": "code",
      "execution_count": 4,
      "metadata": {
        "id": "f6B48BYwvxlM"
      },
      "outputs": [],
      "source": [
        "import warnings\n",
        "\n",
        "# Ignore all warnings\n",
        "warnings.filterwarnings(\"ignore\")"
      ]
    },
    {
      "cell_type": "markdown",
      "metadata": {
        "id": "b_tBCRi5vxlM"
      },
      "source": [
        "# Load datasets"
      ]
    },
    {
      "cell_type": "code",
      "source": [
        "ls"
      ],
      "metadata": {
        "colab": {
          "base_uri": "https://localhost:8080/"
        },
        "id": "ztjWTosAxsj_",
        "outputId": "e736480c-3bc0-483a-883a-2e2dab8d5b7e"
      },
      "execution_count": 5,
      "outputs": [
        {
          "output_type": "stream",
          "name": "stdout",
          "text": [
            "\u001b[0m\u001b[01;34mdrive\u001b[0m/  \u001b[01;34msample_data\u001b[0m/\n"
          ]
        }
      ]
    },
    {
      "cell_type": "code",
      "execution_count": 6,
      "metadata": {
        "id": "cUrB_be4vxlM"
      },
      "outputs": [],
      "source": [
        "# Load Competiton Datasets and drop breast_cancer_diagnosis_code\n",
        "df = pd.read_csv(\"/content/drive/MyDrive/2025_DataMining/WiDS/training.csv\")\n",
        "tdf = pd.read_csv(\"/content/drive/MyDrive/2025_DataMining/WiDS/test.csv\")\n",
        "ss = pd.read_csv(\"/content/drive/MyDrive/2025_DataMining/WiDS/sample_submission.csv\")"
      ]
    },
    {
      "cell_type": "code",
      "execution_count": null,
      "metadata": {
        "id": "XoO1GTLTvxlN",
        "colab": {
          "base_uri": "https://localhost:8080/"
        },
        "outputId": "e1faa70e-b65b-484a-89fc-44e82bd91e18"
      },
      "outputs": [
        {
          "output_type": "stream",
          "name": "stdout",
          "text": [
            "<class 'pandas.core.frame.DataFrame'>\n",
            "RangeIndex: 12906 entries, 0 to 12905\n",
            "Data columns (total 83 columns):\n",
            " #   Column                                 Non-Null Count  Dtype  \n",
            "---  ------                                 --------------  -----  \n",
            " 0   patient_id                             12906 non-null  int64  \n",
            " 1   patient_race                           6521 non-null   object \n",
            " 2   payer_type                             11103 non-null  object \n",
            " 3   patient_state                          12855 non-null  object \n",
            " 4   patient_zip3                           12906 non-null  int64  \n",
            " 5   patient_age                            12906 non-null  int64  \n",
            " 6   patient_gender                         12906 non-null  object \n",
            " 7   bmi                                    3941 non-null   float64\n",
            " 8   breast_cancer_diagnosis_code           12906 non-null  object \n",
            " 9   breast_cancer_diagnosis_desc           12906 non-null  object \n",
            " 10  metastatic_cancer_diagnosis_code       12906 non-null  object \n",
            " 11  metastatic_first_novel_treatment       24 non-null     object \n",
            " 12  metastatic_first_novel_treatment_type  24 non-null     object \n",
            " 13  Region                                 12854 non-null  object \n",
            " 14  Division                               12854 non-null  object \n",
            " 15  population                             12905 non-null  float64\n",
            " 16  density                                12905 non-null  float64\n",
            " 17  age_median                             12905 non-null  float64\n",
            " 18  age_under_10                           12905 non-null  float64\n",
            " 19  age_10_to_19                           12905 non-null  float64\n",
            " 20  age_20s                                12905 non-null  float64\n",
            " 21  age_30s                                12905 non-null  float64\n",
            " 22  age_40s                                12905 non-null  float64\n",
            " 23  age_50s                                12905 non-null  float64\n",
            " 24  age_60s                                12905 non-null  float64\n",
            " 25  age_70s                                12905 non-null  float64\n",
            " 26  age_over_80                            12905 non-null  float64\n",
            " 27  male                                   12905 non-null  float64\n",
            " 28  female                                 12905 non-null  float64\n",
            " 29  married                                12905 non-null  float64\n",
            " 30  divorced                               12905 non-null  float64\n",
            " 31  never_married                          12905 non-null  float64\n",
            " 32  widowed                                12905 non-null  float64\n",
            " 33  family_size                            12902 non-null  float64\n",
            " 34  family_dual_income                     12902 non-null  float64\n",
            " 35  income_household_median                12902 non-null  float64\n",
            " 36  income_household_under_5               12902 non-null  float64\n",
            " 37  income_household_5_to_10               12902 non-null  float64\n",
            " 38  income_household_10_to_15              12902 non-null  float64\n",
            " 39  income_household_15_to_20              12902 non-null  float64\n",
            " 40  income_household_20_to_25              12902 non-null  float64\n",
            " 41  income_household_25_to_35              12902 non-null  float64\n",
            " 42  income_household_35_to_50              12902 non-null  float64\n",
            " 43  income_household_50_to_75              12902 non-null  float64\n",
            " 44  income_household_75_to_100             12902 non-null  float64\n",
            " 45  income_household_100_to_150            12902 non-null  float64\n",
            " 46  income_household_150_over              12902 non-null  float64\n",
            " 47  income_household_six_figure            12902 non-null  float64\n",
            " 48  income_individual_median               12905 non-null  float64\n",
            " 49  home_ownership                         12902 non-null  float64\n",
            " 50  housing_units                          12905 non-null  float64\n",
            " 51  home_value                             12902 non-null  float64\n",
            " 52  rent_median                            12902 non-null  float64\n",
            " 53  rent_burden                            12902 non-null  float64\n",
            " 54  education_less_highschool              12905 non-null  float64\n",
            " 55  education_highschool                   12905 non-null  float64\n",
            " 56  education_some_college                 12905 non-null  float64\n",
            " 57  education_bachelors                    12905 non-null  float64\n",
            " 58  education_graduate                     12905 non-null  float64\n",
            " 59  education_college_or_above             12905 non-null  float64\n",
            " 60  education_stem_degree                  12905 non-null  float64\n",
            " 61  labor_force_participation              12905 non-null  float64\n",
            " 62  unemployment_rate                      12905 non-null  float64\n",
            " 63  self_employed                          12902 non-null  float64\n",
            " 64  farmer                                 12902 non-null  float64\n",
            " 65  race_white                             12905 non-null  float64\n",
            " 66  race_black                             12905 non-null  float64\n",
            " 67  race_asian                             12905 non-null  float64\n",
            " 68  race_native                            12905 non-null  float64\n",
            " 69  race_pacific                           12905 non-null  float64\n",
            " 70  race_other                             12905 non-null  float64\n",
            " 71  race_multiple                          12905 non-null  float64\n",
            " 72  hispanic                               12905 non-null  float64\n",
            " 73  disabled                               12905 non-null  float64\n",
            " 74  poverty                                12902 non-null  float64\n",
            " 75  limited_english                        12902 non-null  float64\n",
            " 76  commute_time                           12905 non-null  float64\n",
            " 77  health_uninsured                       12905 non-null  float64\n",
            " 78  veteran                                12905 non-null  float64\n",
            " 79  Ozone                                  12877 non-null  float64\n",
            " 80  PM25                                   12877 non-null  float64\n",
            " 81  N02                                    12877 non-null  float64\n",
            " 82  DiagPeriodL90D                         12906 non-null  int64  \n",
            "dtypes: float64(68), int64(4), object(11)\n",
            "memory usage: 8.2+ MB\n"
          ]
        }
      ],
      "source": [
        "df.info()"
      ]
    },
    {
      "cell_type": "code",
      "execution_count": null,
      "metadata": {
        "id": "GMQK5XjIvxlN",
        "colab": {
          "base_uri": "https://localhost:8080/",
          "height": 566
        },
        "outputId": "d155608b-b8ff-407f-83f6-87793ef90f1f"
      },
      "outputs": [
        {
          "output_type": "display_data",
          "data": {
            "text/plain": [
              "<Figure size 800x600 with 1 Axes>"
            ],
            "image/png": "[encoded data removed]"
          },
          "metadata": {}
        }
      ],
      "source": [
        "target = \"DiagPeriodL90D\"\n",
        "\n",
        "# Count the occurrences of each class\n",
        "class_counts = df[target].value_counts()\n",
        "\n",
        "# Plot the class distribution\n",
        "plt.figure(figsize=(8, 6))\n",
        "class_counts.plot(kind='bar')\n",
        "plt.title('Class Distribution')\n",
        "plt.xlabel('Classes')\n",
        "plt.ylabel('Count')\n",
        "plt.xticks(rotation=45)\n",
        "plt.show()"
      ]
    },
    {
      "cell_type": "markdown",
      "source": [
        "# Feature Engineering"
      ],
      "metadata": {
        "id": "rE9lSB25q76q"
      }
    },
    {
      "cell_type": "markdown",
      "source": [
        "### NO2, PM25, commute_time - Missing Value\n",
        "\n",
        "- patient_zip2 기반의 평균값으로 대체"
      ],
      "metadata": {
        "id": "XYKp-ZLas_DK"
      }
    },
    {
      "cell_type": "code",
      "source": [
        "# patient_zip2 파생 변수 생성\n",
        "df['patient_zip2'] = df['patient_zip3'].astype(str).str[:2]\n",
        "tdf['patient_zip2'] = tdf['patient_zip3'].astype(str).str[:2]\n",
        "\n",
        "\n",
        "# 전처리할 컬럼 리스트\n",
        "target_cols = ['N02', 'PM25', 'commute_time']\n",
        "\n",
        "# df, tdf 각각에 대해 그룹별 평균으로 결측치 채우기\n",
        "for dataset in [df, tdf]:\n",
        "    for col in target_cols:\n",
        "        dataset[col] = dataset.groupby('patient_zip2')[col].transform(lambda x: x.fillna(x.mean()))"
      ],
      "metadata": {
        "id": "-l9Dyel4s_Wi"
      },
      "execution_count": null,
      "outputs": []
    },
    {
      "cell_type": "code",
      "source": [
        "# 각 컬럼의 결측치 개수 출력\n",
        "for col in ['N02', 'PM25', 'commute_time']:\n",
        "    missing_count = df[col].isnull().sum()\n",
        "    print(f\"{col} 결측치 개수: {missing_count}\")"
      ],
      "metadata": {
        "colab": {
          "base_uri": "https://localhost:8080/"
        },
        "id": "8i9SuFqctP6m",
        "outputId": "0a9c6f61-65fa-4408-a856-b9f12ddd0f67"
      },
      "execution_count": null,
      "outputs": [
        {
          "output_type": "stream",
          "name": "stdout",
          "text": [
            "N02 결측치 개수: 0\n",
            "PM25 결측치 개수: 0\n",
            "commute_time 결측치 개수: 0\n"
          ]
        }
      ]
    },
    {
      "cell_type": "markdown",
      "source": [
        "### NO2 x PM25 x commute_time + MinMax Scaling"
      ],
      "metadata": {
        "id": "S4Om_J4BrCSM"
      }
    },
    {
      "cell_type": "code",
      "source": [
        "from sklearn.preprocessing import MinMaxScaler\n",
        "\n",
        "# 스케일링 대상 컬럼\n",
        "cols = ['N02', 'PM25', 'commute_time']\n",
        "\n",
        "# MinMax 스케일러 정의\n",
        "scaler = MinMaxScaler()\n",
        "\n",
        "# df 정규화\n",
        "df_scaled = pd.DataFrame(scaler.fit_transform(df[cols]), columns=cols, index=df.index)\n",
        "df['N02xPM25xcommute_time'] = df_scaled['N02'] * df_scaled['PM25'] * df_scaled['commute_time']\n",
        "\n",
        "# tdf 정규화 (df 기준으로 transform)\n",
        "tdf_scaled = pd.DataFrame(scaler.transform(tdf[cols]), columns=cols, index=tdf.index)\n",
        "tdf['N02xPM25xcommute_time'] = tdf_scaled['N02'] * tdf_scaled['PM25'] * tdf_scaled['commute_time']"
      ],
      "metadata": {
        "id": "kL5D6IY_q7Wm"
      },
      "execution_count": null,
      "outputs": []
    },
    {
      "cell_type": "markdown",
      "source": [
        "### train + test"
      ],
      "metadata": {
        "id": "Z5XcSkuLPJaV"
      }
    },
    {
      "cell_type": "code",
      "source": [
        "# define target variable and categorical features\n",
        "cat_cols = list(tdf.columns[tdf.dtypes==\"object\"])\n",
        "cols = [col for col in tdf.columns if col not in [\"patient_id\"]]\n",
        "tdf[target] = np.nan\n",
        "\n",
        "# concatenate train and test set\n",
        "df = pd.concat([df,tdf[df.columns]],axis=0)"
      ],
      "metadata": {
        "id": "tQkkA7dnRz2d"
      },
      "execution_count": null,
      "outputs": []
    },
    {
      "cell_type": "markdown",
      "source": [
        "### clust + is_female"
      ],
      "metadata": {
        "id": "Qdo7LF89PWu1"
      }
    },
    {
      "cell_type": "code",
      "source": [
        "df[\"clust\"]=(df.metastatic_cancer_diagnosis_code.str.len()==4).astype(\"int\")\n",
        "df[\"is_female\"] = df.breast_cancer_diagnosis_desc.str.contains(\"female\").astype(\"int\")\n",
        "df[\"is_female\"].value_counts()"
      ],
      "metadata": {
        "colab": {
          "base_uri": "https://localhost:8080/",
          "height": 178
        },
        "id": "QiZ2UOPtfpnn",
        "outputId": "96b510ba-ff0d-46a5-e89e-2f593d427301"
      },
      "execution_count": null,
      "outputs": [
        {
          "output_type": "execute_result",
          "data": {
            "text/plain": [
              "is_female\n",
              "1    18665\n",
              "0       33\n",
              "Name: count, dtype: int64"
            ],
            "text/html": [
              "<div>\n",
              "<style scoped>\n",
              "    .dataframe tbody tr th:only-of-type {\n",
              "        vertical-align: middle;\n",
              "    }\n",
              "\n",
              "    .dataframe tbody tr th {\n",
              "        vertical-align: top;\n",
              "    }\n",
              "\n",
              "    .dataframe thead th {\n",
              "        text-align: right;\n",
              "    }\n",
              "</style>\n",
              "<table border=\"1\" class=\"dataframe\">\n",
              "  <thead>\n",
              "    <tr style=\"text-align: right;\">\n",
              "      <th></th>\n",
              "      <th>count</th>\n",
              "    </tr>\n",
              "    <tr>\n",
              "      <th>is_female</th>\n",
              "      <th></th>\n",
              "    </tr>\n",
              "  </thead>\n",
              "  <tbody>\n",
              "    <tr>\n",
              "      <th>1</th>\n",
              "      <td>18665</td>\n",
              "    </tr>\n",
              "    <tr>\n",
              "      <th>0</th>\n",
              "      <td>33</td>\n",
              "    </tr>\n",
              "  </tbody>\n",
              "</table>\n",
              "</div><br><label><b>dtype:</b> int64</label>"
            ]
          },
          "metadata": {},
          "execution_count": 11
        }
      ]
    },
    {
      "cell_type": "markdown",
      "source": [
        "### meta_code4"
      ],
      "metadata": {
        "id": "m4rd8wJiPXep"
      }
    },
    {
      "cell_type": "code",
      "source": [
        "# meta 칼럼에서 5자리 값을 4자리로 변환\n",
        "df['meta_code4'] = df['metastatic_cancer_diagnosis_code'].astype(str).apply(lambda x: x[:4] if len(x) >= 5 else x)\n",
        "\n",
        "# 결과 확인\n",
        "print(df['meta_code4'].nunique())\n",
        "print(df['meta_code4'].value_counts())\n",
        "\n",
        "#metastatic_cancer_diagnosis_code 드랍하기\n",
        "df = df.drop(columns=['metastatic_cancer_diagnosis_code'])"
      ],
      "metadata": {
        "colab": {
          "base_uri": "https://localhost:8080/"
        },
        "id": "g_iQfzWOPVrt",
        "outputId": "d5a01552-f684-429d-e323-0e6024887438"
      },
      "execution_count": null,
      "outputs": [
        {
          "output_type": "stream",
          "name": "stdout",
          "text": [
            "27\n",
            "meta_code4\n",
            "C773    10223\n",
            "C795     2760\n",
            "C798     1196\n",
            "C779     1095\n",
            "C780      910\n",
            "C787      533\n",
            "C799      399\n",
            "C793      389\n",
            "C792      239\n",
            "C771      226\n",
            "C770      192\n",
            "C782      117\n",
            "C778      116\n",
            "C786       57\n",
            "C781       40\n",
            "C772       39\n",
            "C794       29\n",
            "C796       27\n",
            "C788       25\n",
            "C785       25\n",
            "C797       17\n",
            "C775       14\n",
            "C790        8\n",
            "C791        7\n",
            "C784        6\n",
            "C783        5\n",
            "C774        4\n",
            "Name: count, dtype: int64\n"
          ]
        }
      ]
    },
    {
      "cell_type": "markdown",
      "source": [
        "### ICD"
      ],
      "metadata": {
        "id": "CX66z2KlE6O5"
      }
    },
    {
      "cell_type": "code",
      "source": [
        "# ICD_version 파생변수 생성 (ICD-10이면 0, ICD-9이면 1)\n",
        "\n",
        "df['ICD_version'] = np.where(df['breast_cancer_diagnosis_code'].astype(str).str.startswith('C'), 'ICD-10', 'ICD-9')\n",
        "print(df['ICD_version'].value_counts())"
      ],
      "metadata": {
        "colab": {
          "base_uri": "https://localhost:8080/"
        },
        "id": "1n2Ln0oEE5XH",
        "outputId": "3c7ddeb6-ac3b-4136-fefb-47948cbf4c92"
      },
      "execution_count": null,
      "outputs": [
        {
          "output_type": "stream",
          "name": "stdout",
          "text": [
            "ICD_version\n",
            "ICD-10    14333\n",
            "ICD-9      4365\n",
            "Name: count, dtype: int64\n"
          ]
        }
      ]
    },
    {
      "cell_type": "markdown",
      "source": [
        "### Breast Cancer - Code & Desc Mapping"
      ],
      "metadata": {
        "id": "zkYq-kCFPbRB"
      }
    },
    {
      "cell_type": "code",
      "source": [
        "# ## ICD9 -> ICD10 매핑\n",
        "# ## breast_cancer_diagnosis_desc\n",
        "# ## breast_cancer_diagnosis_code\n",
        "\n",
        "# # 1. ICD9 -> ICD10 코드(code) 매핑\n",
        "# icd9_to_icd10 = {\n",
        "#     '1749': 'C50919', '1744': 'C50419',\n",
        "#     '1748': 'C50819', '1742': 'C50219',\n",
        "#     '1741': 'C50119', '1745': 'C50519',\n",
        "#     '1743': 'C50319', '1746': 'C50619',\n",
        "#     '19881': 'C7981', '1759': 'C50929'\n",
        "# }\n",
        "\n",
        "# # 2. ICD-10 ➝ 진단명(desc) 매핑\n",
        "# icd10_to_desc = {\n",
        "#     \"C50919\": \"Malignant neoplasm of unsp site of unspecified female breast\",\n",
        "#     \"C50419\": \"Malig neoplasm of upper-outer quadrant of unsp female breast\",\n",
        "#     \"C50819\": \"Malignant neoplasm of ovrlp sites of unsp female breast\",\n",
        "#     \"C50219\": \"Malig neoplasm of upper-inner quadrant of unsp female breast\",\n",
        "#     \"C50119\": \"Malignant neoplasm of central portion of unsp female breast\",\n",
        "#     \"C50519\": \"Malig neoplasm of lower-outer quadrant of unsp female breast\",\n",
        "#     \"C50319\": \"Malig neoplasm of lower-inner quadrant of unsp female breast\",\n",
        "#     \"C50619\": \"Malignant neoplasm of axillary tail of unsp female breast\",\n",
        "#     \"C50929\": \"Malignant neoplasm of unsp site of unspecified male breast\",\n",
        "#     \"C7981\": \"Secondary malignant neoplasm of breast\"\n",
        "# }\n",
        "\n",
        "\n",
        "# # 1-(1). ICD9 -> ICD10 코드(code) 매핑 적용\n",
        "# df['breast_cancer_diagnosis_code_mapped'] = df['breast_cancer_diagnosis_code'].astype(str).replace(icd9_to_icd10)\n",
        "\n",
        "# # 2-(2). ICD-10 ➝ 진단명(desc) 매핑 적용\n",
        "# df['breast_cancer_diagnosis_desc_mapped'] = df['breast_cancer_diagnosis_code_mapped'].map(icd10_to_desc).fillna(df['breast_cancer_diagnosis_desc'])"
      ],
      "metadata": {
        "id": "BL1TMvy3Pcv7"
      },
      "execution_count": null,
      "outputs": []
    },
    {
      "cell_type": "markdown",
      "source": [
        "## tumor_site"
      ],
      "metadata": {
        "id": "ojCQF2mqcrkE"
      }
    },
    {
      "cell_type": "code",
      "source": [
        "# # desc를 소문자로 변환하여 새로운 컬럼 생성\n",
        "# df['desc_lower'] = df['breast_cancer_diagnosis_desc_mapped'].str.lower()\n",
        "\n",
        "# # 위치 기반 파생 변수 생성\n",
        "# df['tumor_site'] = np.select(\n",
        "#     [\n",
        "#         df['desc_lower'].str.contains('inner'),\n",
        "#         df['desc_lower'].str.contains('outer') | df['desc_lower'].str.contains('axillary tail'),\n",
        "#         df['desc_lower'].str.contains('central portion') | df['desc_lower'].str.contains('nipple') | df['desc_lower'].str.contains('areola'),\n",
        "#         df['desc_lower'].str.contains('overlapping') | df['desc_lower'].str.contains('ovrlp'),\n",
        "#         df['desc_lower'].str.contains('unspecified') | df['desc_lower'].str.contains('unsp')\n",
        "#     ],\n",
        "#     [\n",
        "#         'Inner',\n",
        "#         'Outer',\n",
        "#         'Central',\n",
        "#         'Overlapping',\n",
        "#         'Unspecified'\n",
        "#     ],\n",
        "#     default='Unspecified'\n",
        "# )\n",
        "# df['tumor_site'].value_counts()"
      ],
      "metadata": {
        "id": "HXvg76iMdkTG"
      },
      "execution_count": null,
      "outputs": []
    },
    {
      "cell_type": "markdown",
      "source": [
        "## patient_race - Missing Value"
      ],
      "metadata": {
        "id": "_9yUz_3Ad1hu"
      }
    },
    {
      "cell_type": "code",
      "source": [
        "## 해야해"
      ],
      "metadata": {
        "id": "FGAY8t_IdVfB"
      },
      "execution_count": null,
      "outputs": []
    },
    {
      "cell_type": "markdown",
      "source": [
        "## Columns Drop (zip3 Groupby & others"
      ],
      "metadata": {
        "id": "KH24JckxeLYj"
      }
    },
    {
      "cell_type": "code",
      "source": [
        "len(df.columns)"
      ],
      "metadata": {
        "colab": {
          "base_uri": "https://localhost:8080/"
        },
        "id": "oMtePx5x05Ke",
        "outputId": "9b4b1045-78c0-4d45-8718-58c56e029e55"
      },
      "execution_count": null,
      "outputs": [
        {
          "output_type": "execute_result",
          "data": {
            "text/plain": [
              "88"
            ]
          },
          "metadata": {},
          "execution_count": 17
        }
      ]
    },
    {
      "cell_type": "code",
      "source": [
        "# Drop some features\n",
        "\n",
        "# List of columns to iterate over\n",
        "columns_to_iterate = [col for col in df.columns if col not in [\"patient_zip3\", \"N02xPM25xcommute_time\"]]\n",
        "\n",
        "# Iterate over each column\n",
        "for col in columns_to_iterate:\n",
        "    # Your code to operate on each column goes here\n",
        "    df[\"check\"]=df.groupby([\"patient_zip3\",\"N02xPM25xcommute_time\"])[col].transform(\"nunique\")\n",
        "    if df[\"check\"].max()==1:\n",
        "        print(\"dropped \",col)\n",
        "        df=df.drop(col,axis=1)\n",
        "        # tdf=tdf.drop(col,axis=1)\n",
        "df=df.drop(\"check\",axis=1)"
      ],
      "metadata": {
        "colab": {
          "base_uri": "https://localhost:8080/"
        },
        "id": "W3YlqavSxhRX",
        "outputId": "a6b544b2-efa0-440e-f69a-a1fac0460817"
      },
      "execution_count": null,
      "outputs": [
        {
          "output_type": "stream",
          "name": "stdout",
          "text": [
            "dropped  patient_gender\n",
            "dropped  metastatic_first_novel_treatment\n",
            "dropped  metastatic_first_novel_treatment_type\n",
            "dropped  population\n",
            "dropped  density\n",
            "dropped  age_median\n",
            "dropped  age_under_10\n",
            "dropped  age_10_to_19\n",
            "dropped  age_20s\n",
            "dropped  age_30s\n",
            "dropped  age_40s\n",
            "dropped  age_50s\n",
            "dropped  age_60s\n",
            "dropped  age_70s\n",
            "dropped  age_over_80\n",
            "dropped  male\n",
            "dropped  female\n",
            "dropped  married\n",
            "dropped  divorced\n",
            "dropped  never_married\n",
            "dropped  widowed\n",
            "dropped  family_size\n",
            "dropped  family_dual_income\n",
            "dropped  income_household_median\n",
            "dropped  income_household_under_5\n",
            "dropped  income_household_5_to_10\n",
            "dropped  income_household_10_to_15\n",
            "dropped  income_household_15_to_20\n",
            "dropped  income_household_20_to_25\n",
            "dropped  income_household_25_to_35\n",
            "dropped  income_household_35_to_50\n",
            "dropped  income_household_50_to_75\n",
            "dropped  income_household_75_to_100\n",
            "dropped  income_household_100_to_150\n",
            "dropped  income_household_150_over\n",
            "dropped  income_household_six_figure\n",
            "dropped  income_individual_median\n",
            "dropped  home_ownership\n",
            "dropped  housing_units\n",
            "dropped  home_value\n",
            "dropped  rent_median\n",
            "dropped  rent_burden\n",
            "dropped  education_less_highschool\n",
            "dropped  education_highschool\n",
            "dropped  education_some_college\n",
            "dropped  education_bachelors\n",
            "dropped  education_graduate\n",
            "dropped  education_college_or_above\n",
            "dropped  education_stem_degree\n",
            "dropped  labor_force_participation\n",
            "dropped  unemployment_rate\n",
            "dropped  self_employed\n",
            "dropped  farmer\n",
            "dropped  race_white\n",
            "dropped  race_black\n",
            "dropped  race_asian\n",
            "dropped  race_native\n",
            "dropped  race_pacific\n",
            "dropped  race_other\n",
            "dropped  race_multiple\n",
            "dropped  hispanic\n",
            "dropped  disabled\n",
            "dropped  poverty\n",
            "dropped  limited_english\n",
            "dropped  commute_time\n",
            "dropped  health_uninsured\n",
            "dropped  veteran\n",
            "dropped  Ozone\n",
            "dropped  PM25\n",
            "dropped  N02\n",
            "dropped  patient_zip2\n"
          ]
        }
      ]
    },
    {
      "cell_type": "code",
      "source": [
        "# - Region\n",
        "# - patient_zip3\n",
        "# - desc_lower\n",
        "# - breast_cancer_diagnosis_code\n",
        "# - breast_cancer_diagnosis_desc\n",
        "# - breast_cancer_diagnosis_code_mapped\n",
        "# - breast_cancer_diagnosis_desc_mapped\n",
        "\n",
        "df = df.drop(columns=[\n",
        "    'Region', 'patient_zip3',\n",
        "    # 'desc_lower',\n",
        "    # 'breast_cancer_diagnosis_code_mapped',\n",
        "    # 'breast_cancer_diagnosis_desc_mapped',\n",
        "    # 'breast_cancer_diagnosis_desc',\n",
        "    'breast_cancer_diagnosis_code',\n",
        "])"
      ],
      "metadata": {
        "id": "JXDbUJtseIHM"
      },
      "execution_count": null,
      "outputs": []
    },
    {
      "cell_type": "code",
      "source": [
        "df.columns.to_list()"
      ],
      "metadata": {
        "colab": {
          "base_uri": "https://localhost:8080/"
        },
        "id": "I4mOPJjo08pv",
        "outputId": "5a251d4d-94ff-44ee-acf6-968e98a2fe9f"
      },
      "execution_count": null,
      "outputs": [
        {
          "output_type": "execute_result",
          "data": {
            "text/plain": [
              "['patient_id',\n",
              " 'patient_race',\n",
              " 'payer_type',\n",
              " 'patient_state',\n",
              " 'patient_age',\n",
              " 'bmi',\n",
              " 'breast_cancer_diagnosis_desc',\n",
              " 'Division',\n",
              " 'DiagPeriodL90D',\n",
              " 'N02xPM25xcommute_time',\n",
              " 'clust',\n",
              " 'is_female',\n",
              " 'meta_code4',\n",
              " 'ICD_version']"
            ]
          },
          "metadata": {},
          "execution_count": 20
        }
      ]
    },
    {
      "cell_type": "code",
      "source": [
        "len(df.columns)"
      ],
      "metadata": {
        "colab": {
          "base_uri": "https://localhost:8080/"
        },
        "id": "c7Am-zg706QK",
        "outputId": "4804eb72-75b7-4833-f66a-829ad87d6282"
      },
      "execution_count": null,
      "outputs": [
        {
          "output_type": "execute_result",
          "data": {
            "text/plain": [
              "14"
            ]
          },
          "metadata": {},
          "execution_count": 21
        }
      ]
    },
    {
      "cell_type": "markdown",
      "source": [
        "## One-Hot Encoding"
      ],
      "metadata": {
        "id": "7Ayk3ahkRh5_"
      }
    },
    {
      "cell_type": "code",
      "source": [
        "# One-Hot Encoding\n",
        "categorical_cols = [col for col in df.columns\n",
        "                    if df[col].dtype == 'object']"
      ],
      "metadata": {
        "id": "aCRgqDck20-p"
      },
      "execution_count": null,
      "outputs": []
    },
    {
      "cell_type": "code",
      "source": [
        "categorical_cols"
      ],
      "metadata": {
        "colab": {
          "base_uri": "https://localhost:8080/"
        },
        "id": "XI-UZNAa3EQs",
        "outputId": "1d0e0e10-6456-43fb-f7af-2179126b3c58"
      },
      "execution_count": null,
      "outputs": [
        {
          "output_type": "execute_result",
          "data": {
            "text/plain": [
              "['patient_race',\n",
              " 'payer_type',\n",
              " 'patient_state',\n",
              " 'breast_cancer_diagnosis_desc',\n",
              " 'Division',\n",
              " 'meta_code4',\n",
              " 'ICD_version']"
            ]
          },
          "metadata": {},
          "execution_count": 23
        }
      ]
    },
    {
      "cell_type": "code",
      "source": [
        "df = pd.get_dummies(df, columns=categorical_cols, drop_first=True, dtype=\"int\")"
      ],
      "metadata": {
        "id": "rGi1tYYc3EBA"
      },
      "execution_count": null,
      "outputs": []
    },
    {
      "cell_type": "code",
      "source": [
        "# do label encoding for categorical columns\n",
        "le = LabelEncoder()\n",
        "for col in cat_cols:\n",
        "    try:\n",
        "        df[col]=le.fit_transform(df[col]).astype(\"int\")\n",
        "        print(col)\n",
        "    except:\n",
        "        continue"
      ],
      "metadata": {
        "id": "1Vee_x2kf1Hr"
      },
      "execution_count": null,
      "outputs": []
    },
    {
      "cell_type": "code",
      "source": [
        "tdf = df[df[target].isna()]\n",
        "df = df[df[target].notna()]\n",
        "len(df), len(tdf)\n",
        "# 분리하는 코드"
      ],
      "metadata": {
        "colab": {
          "base_uri": "https://localhost:8080/"
        },
        "id": "FOy9Tcl1f2Or",
        "outputId": "889da4ca-8c24-43bc-c7e8-3b4a51413c3b"
      },
      "execution_count": null,
      "outputs": [
        {
          "output_type": "execute_result",
          "data": {
            "text/plain": [
              "(12906, 5792)"
            ]
          },
          "metadata": {},
          "execution_count": 26
        }
      ]
    },
    {
      "cell_type": "markdown",
      "metadata": {
        "id": "TtL7hJvEvxlN"
      },
      "source": [
        "# Data Cleaning\n",
        "\n",
        "Zip code level metadata were dropped except product of N02,PM25 & Ozone\n",
        "\n",
        "Data set contained missing values which we left unhandled\n"
      ]
    },
    {
      "cell_type": "code",
      "execution_count": null,
      "metadata": {
        "id": "t9CCxMP4vBOG",
        "colab": {
          "base_uri": "https://localhost:8080/"
        },
        "outputId": "fb90a4c4-6a16-48b5-a624-d7498e83eda4"
      },
      "outputs": [
        {
          "output_type": "execute_result",
          "data": {
            "text/plain": [
              "148"
            ]
          },
          "metadata": {},
          "execution_count": 27
        }
      ],
      "source": [
        "len(df.columns)"
      ]
    },
    {
      "cell_type": "code",
      "execution_count": null,
      "metadata": {
        "id": "L8Xyfuhf56Cu",
        "colab": {
          "base_uri": "https://localhost:8080/"
        },
        "outputId": "274c056f-c97b-46ce-9d26-f40fb3a34b35"
      },
      "outputs": [
        {
          "output_type": "stream",
          "name": "stdout",
          "text": [
            "patient_id\n",
            "patient_age\n",
            "bmi\n",
            "DiagPeriodL90D\n",
            "N02xPM25xcommute_time\n",
            "clust\n",
            "is_female\n",
            "patient_race_Black\n",
            "patient_race_Hispanic\n",
            "patient_race_Other\n",
            "patient_race_White\n",
            "payer_type_MEDICAID\n",
            "payer_type_MEDICARE ADVANTAGE\n",
            "patient_state_AL\n",
            "patient_state_AR\n",
            "patient_state_AZ\n",
            "patient_state_CA\n",
            "patient_state_CO\n",
            "patient_state_CT\n",
            "patient_state_DC\n",
            "patient_state_DE\n",
            "patient_state_FL\n",
            "patient_state_GA\n",
            "patient_state_HI\n",
            "patient_state_IA\n",
            "patient_state_ID\n",
            "patient_state_IL\n",
            "patient_state_IN\n",
            "patient_state_KS\n",
            "patient_state_KY\n",
            "patient_state_LA\n",
            "patient_state_MA\n",
            "patient_state_MD\n",
            "patient_state_MI\n",
            "patient_state_MN\n",
            "patient_state_MO\n",
            "patient_state_MS\n",
            "patient_state_MT\n",
            "patient_state_NC\n",
            "patient_state_ND\n",
            "patient_state_NE\n",
            "patient_state_NH\n",
            "patient_state_NJ\n",
            "patient_state_NM\n",
            "patient_state_NV\n",
            "patient_state_NY\n",
            "patient_state_OH\n",
            "patient_state_OK\n",
            "patient_state_OR\n",
            "patient_state_PA\n",
            "patient_state_PR\n",
            "patient_state_RI\n",
            "patient_state_SC\n",
            "patient_state_SD\n",
            "patient_state_TN\n",
            "patient_state_TX\n",
            "patient_state_UT\n",
            "patient_state_VA\n",
            "patient_state_WA\n",
            "patient_state_WI\n",
            "patient_state_WV\n",
            "patient_state_WY\n",
            "breast_cancer_diagnosis_desc_Malig neoplasm of lower-inner quadrant of unsp female breast\n",
            "breast_cancer_diagnosis_desc_Malig neoplasm of lower-outer quadrant of left female breast\n",
            "breast_cancer_diagnosis_desc_Malig neoplasm of lower-outer quadrant of unsp female breast\n",
            "breast_cancer_diagnosis_desc_Malig neoplasm of upper-inner quadrant of left female breast\n",
            "breast_cancer_diagnosis_desc_Malig neoplasm of upper-inner quadrant of unsp female breast\n",
            "breast_cancer_diagnosis_desc_Malig neoplasm of upper-outer quadrant of left female breast\n",
            "breast_cancer_diagnosis_desc_Malig neoplasm of upper-outer quadrant of right male breast\n",
            "breast_cancer_diagnosis_desc_Malig neoplasm of upper-outer quadrant of unsp female breast\n",
            "breast_cancer_diagnosis_desc_Malig neoplm of lower-inner quadrant of right female breast\n",
            "breast_cancer_diagnosis_desc_Malig neoplm of lower-outer quadrant of right female breast\n",
            "breast_cancer_diagnosis_desc_Malig neoplm of upper-inner quadrant of right female breast\n",
            "breast_cancer_diagnosis_desc_Malig neoplm of upper-outer quadrant of right female breast\n",
            "breast_cancer_diagnosis_desc_Malignant neoplasm of axillary tail of female breast\n",
            "breast_cancer_diagnosis_desc_Malignant neoplasm of axillary tail of left female breast\n",
            "breast_cancer_diagnosis_desc_Malignant neoplasm of axillary tail of right female breast\n",
            "breast_cancer_diagnosis_desc_Malignant neoplasm of axillary tail of unsp female breast\n",
            "breast_cancer_diagnosis_desc_Malignant neoplasm of breast\n",
            "breast_cancer_diagnosis_desc_Malignant neoplasm of breast (female), unspecified\n",
            "breast_cancer_diagnosis_desc_Malignant neoplasm of breast of unspecified site\n",
            "breast_cancer_diagnosis_desc_Malignant neoplasm of breast of unspecified site, female\n",
            "breast_cancer_diagnosis_desc_Malignant neoplasm of central portion of breast, female\n",
            "breast_cancer_diagnosis_desc_Malignant neoplasm of central portion of female breast\n",
            "breast_cancer_diagnosis_desc_Malignant neoplasm of central portion of left female breast\n",
            "breast_cancer_diagnosis_desc_Malignant neoplasm of central portion of right female breast\n",
            "breast_cancer_diagnosis_desc_Malignant neoplasm of central portion of unsp female breast\n",
            "breast_cancer_diagnosis_desc_Malignant neoplasm of lower-inner quadrant of breast, female\n",
            "breast_cancer_diagnosis_desc_Malignant neoplasm of lower-inner quadrant of female breast\n",
            "breast_cancer_diagnosis_desc_Malignant neoplasm of lower-outer quadrant of breast, female\n",
            "breast_cancer_diagnosis_desc_Malignant neoplasm of lower-outer quadrant of female breast\n",
            "breast_cancer_diagnosis_desc_Malignant neoplasm of nipple and areola, female\n",
            "breast_cancer_diagnosis_desc_Malignant neoplasm of nipple and areola, left female breast\n",
            "breast_cancer_diagnosis_desc_Malignant neoplasm of nipple and areola, right female breast\n",
            "breast_cancer_diagnosis_desc_Malignant neoplasm of nipple and areola, right male breast\n",
            "breast_cancer_diagnosis_desc_Malignant neoplasm of nipple and areola, unsp female breast\n",
            "breast_cancer_diagnosis_desc_Malignant neoplasm of other and unspecified sites of male breast\n",
            "breast_cancer_diagnosis_desc_Malignant neoplasm of other specified sites of female breast\n",
            "breast_cancer_diagnosis_desc_Malignant neoplasm of overlapping sites of breast, female\n",
            "breast_cancer_diagnosis_desc_Malignant neoplasm of ovrlp sites of left female breast\n",
            "breast_cancer_diagnosis_desc_Malignant neoplasm of ovrlp sites of right female breast\n",
            "breast_cancer_diagnosis_desc_Malignant neoplasm of ovrlp sites of unsp female breast\n",
            "breast_cancer_diagnosis_desc_Malignant neoplasm of unsp site of right female breast\n",
            "breast_cancer_diagnosis_desc_Malignant neoplasm of unsp site of unspecified female breast\n",
            "breast_cancer_diagnosis_desc_Malignant neoplasm of unsp site of unspecified male breast\n",
            "breast_cancer_diagnosis_desc_Malignant neoplasm of unspecified site of left female breast\n",
            "breast_cancer_diagnosis_desc_Malignant neoplasm of unspecified site of left male breast\n",
            "breast_cancer_diagnosis_desc_Malignant neoplasm of unspecified site of right male breast\n",
            "breast_cancer_diagnosis_desc_Malignant neoplasm of upper-inner quadrant of breast, female\n",
            "breast_cancer_diagnosis_desc_Malignant neoplasm of upper-inner quadrant of female breast\n",
            "breast_cancer_diagnosis_desc_Malignant neoplasm of upper-outer quadrant of breast, female\n",
            "breast_cancer_diagnosis_desc_Malignant neoplasm of upper-outer quadrant of female breast\n",
            "breast_cancer_diagnosis_desc_Secondary malignant neoplasm of breast\n",
            "Division_East South Central\n",
            "Division_Middle Atlantic\n",
            "Division_Mountain\n",
            "Division_New England\n",
            "Division_Pacific\n",
            "Division_South Atlantic\n",
            "Division_West North Central\n",
            "Division_West South Central\n",
            "meta_code4_C771\n",
            "meta_code4_C772\n",
            "meta_code4_C773\n",
            "meta_code4_C774\n",
            "meta_code4_C775\n",
            "meta_code4_C778\n",
            "meta_code4_C779\n",
            "meta_code4_C780\n",
            "meta_code4_C781\n",
            "meta_code4_C782\n",
            "meta_code4_C783\n",
            "meta_code4_C784\n",
            "meta_code4_C785\n",
            "meta_code4_C786\n",
            "meta_code4_C787\n",
            "meta_code4_C788\n",
            "meta_code4_C790\n",
            "meta_code4_C791\n",
            "meta_code4_C792\n",
            "meta_code4_C793\n",
            "meta_code4_C794\n",
            "meta_code4_C795\n",
            "meta_code4_C796\n",
            "meta_code4_C797\n",
            "meta_code4_C798\n",
            "meta_code4_C799\n",
            "ICD_version_ICD-9\n"
          ]
        }
      ],
      "source": [
        "for col in df.columns:\n",
        "    print(col)"
      ]
    },
    {
      "cell_type": "markdown",
      "metadata": {
        "id": "_s1o7g5evxlO"
      },
      "source": [
        "# Modeling"
      ]
    },
    {
      "cell_type": "code",
      "execution_count": null,
      "metadata": {
        "id": "jRg2HcCBvxlO"
      },
      "outputs": [],
      "source": [
        "# ▶ CatBoost\n",
        "modela = CatBoostClassifier(\n",
        "    iterations = 500,\n",
        "    silent = True,\n",
        "    learning_rate = 0.05,\n",
        "    depth = 10,\n",
        "    eval_metric = 'AUC',\n",
        "    random_seed = 42\n",
        ")\n",
        "\n",
        "# ▶ RandomForest\n",
        "modelb = RandomForestClassifier(\n",
        "    n_estimators = 200,\n",
        "    max_depth = None,\n",
        "    min_samples_split = 2,\n",
        "    random_state = 42,\n",
        "    n_jobs = -1\n",
        ")\n",
        "\n",
        "# ▶ XGBoost\n",
        "modelc = XGBClassifier(\n",
        "    learning_rate = 0.1,\n",
        "    max_depth = 6,\n",
        "    n_estimators = 100,\n",
        "    subsample = 0.9\n",
        ")"
      ]
    },
    {
      "cell_type": "code",
      "execution_count": null,
      "metadata": {
        "id": "vfmA0-wSvxlO"
      },
      "outputs": [],
      "source": [
        "# finalize features for training\n",
        "drop_cols = [\"patient_id\", target, \"patient_zip3\", \"patient_state\"]\n",
        "cols = list(set(df.columns) - set(drop_cols))"
      ]
    },
    {
      "cell_type": "code",
      "source": [
        "print(\"모델 학습에 사용된 feature 개수:\", len(cols))\n",
        "print(\"사용된 feature 리스트:\")\n",
        "for col in cols:\n",
        "    print(col)"
      ],
      "metadata": {
        "colab": {
          "base_uri": "https://localhost:8080/"
        },
        "id": "dRnVWtMUXt6v",
        "outputId": "a70a018c-2304-4309-e4e2-af931fee7a52"
      },
      "execution_count": null,
      "outputs": [
        {
          "output_type": "stream",
          "name": "stdout",
          "text": [
            "모델 학습에 사용된 feature 개수: 146\n",
            "사용된 feature 리스트:\n",
            "patient_state_KY\n",
            "breast_cancer_diagnosis_desc_Secondary malignant neoplasm of breast\n",
            "meta_code4_C785\n",
            "breast_cancer_diagnosis_desc_Malignant neoplasm of nipple and areola, female\n",
            "patient_state_NE\n",
            "N02xPM25xcommute_time\n",
            "is_female\n",
            "patient_state_CO\n",
            "meta_code4_C771\n",
            "patient_state_HI\n",
            "patient_state_DC\n",
            "clust\n",
            "breast_cancer_diagnosis_desc_Malignant neoplasm of upper-inner quadrant of breast, female\n",
            "breast_cancer_diagnosis_desc_Malignant neoplasm of unspecified site of left male breast\n",
            "meta_code4_C788\n",
            "patient_state_MS\n",
            "patient_state_WY\n",
            "Division_West South Central\n",
            "patient_state_MI\n",
            "breast_cancer_diagnosis_desc_Malig neoplasm of upper-inner quadrant of unsp female breast\n",
            "payer_type_MEDICAID\n",
            "patient_state_IA\n",
            "patient_state_DE\n",
            "patient_state_MD\n",
            "patient_state_WA\n",
            "Division_New England\n",
            "patient_state_MO\n",
            "breast_cancer_diagnosis_desc_Malignant neoplasm of unsp site of unspecified male breast\n",
            "breast_cancer_diagnosis_desc_Malig neoplasm of upper-inner quadrant of left female breast\n",
            "breast_cancer_diagnosis_desc_Malignant neoplasm of central portion of left female breast\n",
            "patient_state_AZ\n",
            "breast_cancer_diagnosis_desc_Malignant neoplasm of unspecified site of right male breast\n",
            "patient_state_PA\n",
            "patient_state_CT\n",
            "breast_cancer_diagnosis_desc_Malignant neoplasm of axillary tail of right female breast\n",
            "meta_code4_C791\n",
            "patient_state_NM\n",
            "patient_state_IN\n",
            "meta_code4_C786\n",
            "meta_code4_C783\n",
            "patient_state_LA\n",
            "breast_cancer_diagnosis_desc_Malignant neoplasm of lower-inner quadrant of breast, female\n",
            "meta_code4_C794\n",
            "meta_code4_C797\n",
            "patient_state_TN\n",
            "bmi\n",
            "meta_code4_C790\n",
            "meta_code4_C781\n",
            "breast_cancer_diagnosis_desc_Malignant neoplasm of upper-outer quadrant of breast, female\n",
            "patient_state_NY\n",
            "ICD_version_ICD-9\n",
            "patient_race_Hispanic\n",
            "breast_cancer_diagnosis_desc_Malig neoplasm of lower-outer quadrant of left female breast\n",
            "payer_type_MEDICARE ADVANTAGE\n",
            "breast_cancer_diagnosis_desc_Malignant neoplasm of nipple and areola, left female breast\n",
            "breast_cancer_diagnosis_desc_Malignant neoplasm of nipple and areola, right female breast\n",
            "patient_state_CA\n",
            "patient_state_AL\n",
            "meta_code4_C795\n",
            "patient_state_MN\n",
            "breast_cancer_diagnosis_desc_Malig neoplm of lower-outer quadrant of right female breast\n",
            "breast_cancer_diagnosis_desc_Malignant neoplasm of other and unspecified sites of male breast\n",
            "patient_state_SD\n",
            "breast_cancer_diagnosis_desc_Malignant neoplasm of ovrlp sites of left female breast\n",
            "breast_cancer_diagnosis_desc_Malignant neoplasm of other specified sites of female breast\n",
            "patient_race_White\n",
            "breast_cancer_diagnosis_desc_Malignant neoplasm of upper-outer quadrant of female breast\n",
            "meta_code4_C799\n",
            "breast_cancer_diagnosis_desc_Malignant neoplasm of nipple and areola, right male breast\n",
            "patient_state_NC\n",
            "meta_code4_C772\n",
            "breast_cancer_diagnosis_desc_Malignant neoplasm of breast (female), unspecified\n",
            "patient_state_NH\n",
            "patient_state_OK\n",
            "breast_cancer_diagnosis_desc_Malignant neoplasm of axillary tail of unsp female breast\n",
            "patient_state_WV\n",
            "breast_cancer_diagnosis_desc_Malignant neoplasm of breast of unspecified site\n",
            "patient_state_NJ\n",
            "meta_code4_C779\n",
            "Division_Middle Atlantic\n",
            "breast_cancer_diagnosis_desc_Malignant neoplasm of central portion of unsp female breast\n",
            "Division_Pacific\n",
            "breast_cancer_diagnosis_desc_Malig neoplm of upper-inner quadrant of right female breast\n",
            "Division_South Atlantic\n",
            "patient_state_WI\n",
            "meta_code4_C780\n",
            "patient_state_IL\n",
            "patient_race_Other\n",
            "patient_state_PR\n",
            "Division_West North Central\n",
            "breast_cancer_diagnosis_desc_Malig neoplm of lower-inner quadrant of right female breast\n",
            "breast_cancer_diagnosis_desc_Malignant neoplasm of ovrlp sites of unsp female breast\n",
            "meta_code4_C784\n",
            "breast_cancer_diagnosis_desc_Malignant neoplasm of lower-outer quadrant of breast, female\n",
            "patient_state_TX\n",
            "breast_cancer_diagnosis_desc_Malignant neoplasm of lower-inner quadrant of female breast\n",
            "meta_code4_C775\n",
            "breast_cancer_diagnosis_desc_Malig neoplm of upper-outer quadrant of right female breast\n",
            "patient_state_ND\n",
            "meta_code4_C773\n",
            "breast_cancer_diagnosis_desc_Malig neoplasm of upper-outer quadrant of unsp female breast\n",
            "breast_cancer_diagnosis_desc_Malignant neoplasm of overlapping sites of breast, female\n",
            "patient_state_KS\n",
            "patient_state_GA\n",
            "breast_cancer_diagnosis_desc_Malignant neoplasm of lower-outer quadrant of female breast\n",
            "meta_code4_C792\n",
            "patient_state_MA\n",
            "patient_state_RI\n",
            "patient_state_FL\n",
            "patient_state_UT\n",
            "patient_state_VA\n",
            "meta_code4_C774\n",
            "patient_state_MT\n",
            "breast_cancer_diagnosis_desc_Malignant neoplasm of axillary tail of left female breast\n",
            "breast_cancer_diagnosis_desc_Malignant neoplasm of breast\n",
            "breast_cancer_diagnosis_desc_Malignant neoplasm of breast of unspecified site, female\n",
            "breast_cancer_diagnosis_desc_Malignant neoplasm of central portion of female breast\n",
            "patient_state_NV\n",
            "breast_cancer_diagnosis_desc_Malignant neoplasm of axillary tail of female breast\n",
            "breast_cancer_diagnosis_desc_Malignant neoplasm of nipple and areola, unsp female breast\n",
            "meta_code4_C793\n",
            "breast_cancer_diagnosis_desc_Malignant neoplasm of upper-inner quadrant of female breast\n",
            "patient_state_AR\n",
            "meta_code4_C798\n",
            "patient_state_OR\n",
            "breast_cancer_diagnosis_desc_Malig neoplasm of lower-inner quadrant of unsp female breast\n",
            "breast_cancer_diagnosis_desc_Malignant neoplasm of ovrlp sites of right female breast\n",
            "meta_code4_C782\n",
            "Division_East South Central\n",
            "meta_code4_C778\n",
            "breast_cancer_diagnosis_desc_Malignant neoplasm of central portion of right female breast\n",
            "breast_cancer_diagnosis_desc_Malig neoplasm of lower-outer quadrant of unsp female breast\n",
            "breast_cancer_diagnosis_desc_Malignant neoplasm of unspecified site of left female breast\n",
            "breast_cancer_diagnosis_desc_Malig neoplasm of upper-outer quadrant of right male breast\n",
            "patient_age\n",
            "patient_race_Black\n",
            "Division_Mountain\n",
            "meta_code4_C787\n",
            "meta_code4_C796\n",
            "patient_state_SC\n",
            "patient_state_OH\n",
            "breast_cancer_diagnosis_desc_Malignant neoplasm of central portion of breast, female\n",
            "patient_state_ID\n",
            "breast_cancer_diagnosis_desc_Malignant neoplasm of unsp site of unspecified female breast\n",
            "breast_cancer_diagnosis_desc_Malignant neoplasm of unsp site of right female breast\n",
            "breast_cancer_diagnosis_desc_Malig neoplasm of upper-outer quadrant of left female breast\n"
          ]
        }
      ]
    },
    {
      "cell_type": "code",
      "source": [
        "# Define the number of folds\n",
        "num_folds = 10\n",
        "from sklearn.model_selection import StratifiedKFold\n",
        "kf = StratifiedKFold(n_splits = num_folds, shuffle = True, random_state = 42)"
      ],
      "metadata": {
        "execution": {
          "iopub.status.busy": "2024-04-13T16:06:44.027492Z",
          "iopub.execute_input": "2024-04-13T16:06:44.028661Z",
          "iopub.status.idle": "2024-04-13T16:06:44.034512Z",
          "shell.execute_reply.started": "2024-04-13T16:06:44.028609Z",
          "shell.execute_reply": "2024-04-13T16:06:44.033498Z"
        },
        "trusted": true,
        "id": "4sME7kJL65lX"
      },
      "execution_count": null,
      "outputs": []
    },
    {
      "cell_type": "code",
      "source": [
        "# use stacking method, define meta model\n",
        "from sklearn.linear_model import LogisticRegression\n",
        "meta_model = LogisticRegression()\n",
        "meta_features = ['pred1','pred2','pred3']"
      ],
      "metadata": {
        "execution": {
          "iopub.status.busy": "2024-04-13T16:06:44.03612Z",
          "iopub.execute_input": "2024-04-13T16:06:44.036651Z",
          "iopub.status.idle": "2024-04-13T16:06:44.052878Z",
          "shell.execute_reply.started": "2024-04-13T16:06:44.036624Z",
          "shell.execute_reply": "2024-04-13T16:06:44.051334Z"
        },
        "trusted": true,
        "id": "1bLbp6A365lX"
      },
      "execution_count": null,
      "outputs": []
    },
    {
      "cell_type": "code",
      "source": [
        "# Initialize empty dataframe to store predictions from all folds\n",
        "predictions_from_folds = pd.DataFrame()\n",
        "# Iterate over folds\n",
        "for fold, (train_index, val_index) in enumerate(kf.split(df, df[target])):\n",
        "    dfx, efx = df.iloc[train_index], df.iloc[val_index]\n",
        "    # train and make predictions on train set\n",
        "    efx[\"pred1\"] = modela.fit(dfx[cols].values, dfx[target]).predict_proba(efx[cols].values)[:,1]\n",
        "    efx[\"pred2\"] = modelb.fit(dfx[cols].values, dfx[target]).predict_proba(efx[cols].values)[:,1]\n",
        "    efx[\"pred3\"] = modelc.fit(dfx[cols].values, dfx[target]).predict_proba(efx[cols].values)[:,1]\n",
        "    # make predictions on test set\n",
        "    tdf[\"pred1\"] = modela.predict_proba(tdf[cols].values)[:,1]\n",
        "    tdf[\"pred2\"] = modelb.predict_proba(tdf[cols].values)[:,1]\n",
        "    tdf[\"pred3\"] = modelc.predict_proba(tdf[cols].values)[:,1]\n",
        "    # train meta-models and make final predictions\n",
        "    tdf[\"pred\"] = meta_model.fit(efx[meta_features], efx[target]).predict_proba(tdf[meta_features])[:, 1]\n",
        "    predictions_from_folds = pd.concat([predictions_from_folds,tdf],axis=0)"
      ],
      "metadata": {
        "execution": {
          "iopub.status.busy": "2024-04-13T16:06:44.40002Z",
          "iopub.execute_input": "2024-04-13T16:06:44.400428Z",
          "iopub.status.idle": "2024-04-13T16:12:50.216773Z",
          "shell.execute_reply.started": "2024-04-13T16:06:44.400394Z",
          "shell.execute_reply": "2024-04-13T16:12:50.21599Z"
        },
        "trusted": true,
        "id": "f3DsNrTN65lX"
      },
      "execution_count": null,
      "outputs": []
    },
    {
      "cell_type": "code",
      "source": [
        "# feature importance\n",
        "\n",
        "feature_imp = pd.DataFrame(sorted(zip(modela.feature_importances_,cols)), columns = ['Value', 'Feature'])\n",
        "feature_imp = feature_imp.sort_values(\"Value\", ascending = False)\n",
        "feature_imp = feature_imp.head(10)\n",
        "feature_imp[\"Feature\"] = feature_imp[\"Feature\"]\n",
        "plt.figure(figsize = (5, 5))\n",
        "sns.barplot(x = \"Value\", y = \"Feature\", data = feature_imp.sort_values(by = \"Value\", ascending = False))\n",
        "plt.title('Features Importance')\n",
        "plt.tight_layout()\n",
        "plt.savefig('cb_importances.png')\n",
        "plt.show()"
      ],
      "metadata": {
        "colab": {
          "base_uri": "https://localhost:8080/",
          "height": 471
        },
        "id": "yGp7BDqW7D57",
        "outputId": "e3b37683-9a9b-4847-e6dd-de42b01d9de5"
      },
      "execution_count": null,
      "outputs": [
        {
          "output_type": "display_data",
          "data": {
            "text/plain": [
              "<Figure size 500x500 with 1 Axes>"
            ],
            "image/png": "[encoded data removed]"
          },
          "metadata": {}
        }
      ]
    },
    {
      "cell_type": "markdown",
      "metadata": {
        "id": "Sxakg1J1vxlP"
      },
      "source": [
        "# Submission"
      ]
    },
    {
      "cell_type": "code",
      "execution_count": null,
      "metadata": {
        "id": "5aYOPRvAvxlP"
      },
      "outputs": [],
      "source": [
        "# blend predictions from all folds\n",
        "final_predictions = predictions_from_folds.groupby(\"patient_id\").mean().reset_index()\n",
        "final_predictions[target] = final_predictions[\"pred\"].values\n",
        "final_predictions[ss.columns].to_csv(\"final_predictions.csv\", index = None)"
      ]
    },
    {
      "cell_type": "code",
      "source": [
        "from google.colab import files\n",
        "files.download(\"final_predictions.csv\")"
      ],
      "metadata": {
        "colab": {
          "base_uri": "https://localhost:8080/",
          "height": 17
        },
        "id": "Eu79_VDwnJZB",
        "outputId": "40a5aa8f-2bc4-4c1d-a8cc-0526b76eafc1"
      },
      "execution_count": null,
      "outputs": [
        {
          "output_type": "display_data",
          "data": {
            "text/plain": [
              "<IPython.core.display.Javascript object>"
            ],
            "application/javascript": [
              "\n",
              "    async function download(id, filename, size) {\n",
              "      if (!google.colab.kernel.accessAllowed) {\n",
              "        return;\n",
              "      }\n",
              "      const div = document.createElement('div');\n",
              "      const label = document.createElement('label');\n",
              "      label.textContent = `Downloading \"${filename}\": `;\n",
              "      div.appendChild(label);\n",
              "      const progress = document.createElement('progress');\n",
              "      progress.max = size;\n",
              "      div.appendChild(progress);\n",
              "      document.body.appendChild(div);\n",
              "\n",
              "      const buffers = [];\n",
              "      let downloaded = 0;\n",
              "\n",
              "      const channel = await google.colab.kernel.comms.open(id);\n",
              "      // Send a message to notify the kernel that we're ready.\n",
              "      channel.send({})\n",
              "\n",
              "      for await (const message of channel.messages) {\n",
              "        // Send a message to notify the kernel that we're ready.\n",
              "        channel.send({})\n",
              "        if (message.buffers) {\n",
              "          for (const buffer of message.buffers) {\n",
              "            buffers.push(buffer);\n",
              "            downloaded += buffer.byteLength;\n",
              "            progress.value = downloaded;\n",
              "          }\n",
              "        }\n",
              "      }\n",
              "      const blob = new Blob(buffers, {type: 'application/binary'});\n",
              "      const a = document.createElement('a');\n",
              "      a.href = window.URL.createObjectURL(blob);\n",
              "      a.download = filename;\n",
              "      div.appendChild(a);\n",
              "      a.click();\n",
              "      div.remove();\n",
              "    }\n",
              "  "
            ]
          },
          "metadata": {}
        },
        {
          "output_type": "display_data",
          "data": {
            "text/plain": [
              "<IPython.core.display.Javascript object>"
            ],
            "application/javascript": [
              "download(\"download_3f9f2efd-34b4-421c-830e-92a2833762c9\", \"final_predictions.csv\", 151169)"
            ]
          },
          "metadata": {}
        }
      ]
    }
  ],
  "metadata": {
    "colab": {
      "provenance": [],
      "include_colab_link": true
    },
    "kaggle": {
      "accelerator": "none",
      "dataSources": [
        {
          "databundleVersionId": 7469115,
          "sourceId": 65862,
          "sourceType": "competition"
        }
      ],
      "dockerImageVersionId": 30626,
      "isGpuEnabled": false,
      "isInternetEnabled": true,
      "language": "python",
      "sourceType": "notebook"
    },
    "kernelspec": {
      "display_name": "Python 3",
      "language": "python",
      "name": "python3"
    },
    "language_info": {
      "codemirror_mode": {
        "name": "ipython",
        "version": 3
      },
      "file_extension": ".py",
      "mimetype": "text/x-python",
      "name": "python",
      "nbconvert_exporter": "python",
      "pygments_lexer": "ipython3",
      "version": "3.10.12"
    },
    "papermill": {
      "default_parameters": {},
      "duration": 80.233272,
      "end_time": "2024-02-02T20:29:41.772725",
      "environment_variables": {},
      "exception": null,
      "input_path": "__notebook__.ipynb",
      "output_path": "__notebook__.ipynb",
      "parameters": {},
      "start_time": "2024-02-02T20:28:21.539453",
      "version": "2.4.0"
    }
  },
  "nbformat": 4,
  "nbformat_minor": 0
}